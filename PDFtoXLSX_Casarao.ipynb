{
  "nbformat": 4,
  "nbformat_minor": 0,
  "metadata": {
    "colab": {
      "provenance": [],
      "authorship_tag": "ABX9TyPnfpjWuaoqqKdKML/w34+F",
      "include_colab_link": true
    },
    "kernelspec": {
      "name": "python3",
      "display_name": "Python 3"
    },
    "language_info": {
      "name": "python"
    }
  },
  "cells": [
    {
      "cell_type": "markdown",
      "metadata": {
        "id": "view-in-github",
        "colab_type": "text"
      },
      "source": [
        "<a href=\"https://colab.research.google.com/github/moreiraadriano/Clustering/blob/main/PDFtoXLSX_Casarao.ipynb\" target=\"_parent\"><img src=\"https://colab.research.google.com/assets/colab-badge.svg\" alt=\"Open In Colab\"/></a>"
      ]
    },
    {
      "cell_type": "code",
      "source": [
        "import os\n",
        "import pandas as pd\n",
        "import tabula\n",
        "\n",
        "from google.colab import drive\n",
        "\n",
        "# Montar o Google Drive\n",
        "drive.mount('/content/drive')\n",
        "\n",
        "def convert_pdf_to_xlsx(pdf_file, output_folder):\n",
        "    # Verifica se o arquivo de saída existe, se não, cria\n",
        "    if not os.path.exists(output_folder):\n",
        "        os.makedirs(output_folder)\n",
        "\n",
        "    # Configuração para converter o PDF para CSV\n",
        "    csv_filename = os.path.splitext(os.path.basename(pdf_file))[0] + '.csv'\n",
        "    csv_path = os.path.join(output_folder, csv_filename)\n",
        "\n",
        "    # Conversão do PDF para CSV usando tabula\n",
        "    tabula.convert_into(pdf_file, csv_path, output_format=\"csv\", pages=\"all\")\n",
        "\n",
        "    # Ler o CSV e converter para XLSX\n",
        "    csv_data = pd.read_csv(csv_path)\n",
        "    xlsx_filename = os.path.splitext(os.path.basename(pdf_file))[0] + '.xlsx'\n",
        "    xlsx_path = os.path.join(output_folder, xlsx_filename)\n",
        "\n",
        "    # Salvar o DataFrame como XLSX\n",
        "    csv_data.to_excel(xlsx_path, index=False)\n",
        "\n",
        "    return xlsx_path\n",
        "\n",
        "# Caminho do arquivo PDF no Google Drive\n",
        "pdf_file_drive_path = \"/content/drive/My Drive/Adriano Moreira/! Projetos/! Projetos - Casarão Imóveis/! Validações Financeiras/! Base de dados - IPTU/iptu.pdf\"\n",
        "\n",
        "# Caminho da pasta de saída (pode ser a mesma pasta do arquivo PDF ou outra pasta no Google Drive)\n",
        "output_folder_drive_path = \"/content/drive/My Drive/Adriano Moreira/! Projetos/! Projetos - Casarão Imóveis/! Validações Financeiras/! Base de dados - IPTU/! Base Convertida/\"\n",
        "\n",
        "# Chamada da função para converter o PDF\n",
        "xlsx_file = convert_pdf_to_xlsx(pdf_file_drive_path, output_folder_drive_path)\n",
        "print(\"PDF convertido para XLSX:\", xlsx_file)\n"
      ],
      "metadata": {
        "colab": {
          "base_uri": "https://localhost:8080/"
        },
        "id": "One3OtOnK1-Z",
        "outputId": "bac4adc6-fe85-4932-bd62-3c5851fa2d9f"
      },
      "execution_count": null,
      "outputs": [
        {
          "output_type": "stream",
          "name": "stdout",
          "text": [
            "Drive already mounted at /content/drive; to attempt to forcibly remount, call drive.mount(\"/content/drive\", force_remount=True).\n",
            "PDF convertido para XLSX: /content/drive/My Drive/Adriano Moreira/! Projetos/! Projetos - Casarão Imóveis/! Validações Financeiras/! Base de dados - IPTU/iptu.xlsx\n"
          ]
        }
      ]
    }
  ]
}